{
 "cells": [
  {
   "cell_type": "code",
   "execution_count": 1,
   "id": "d43257ab-0ddd-4d04-8f6a-b9ad1e2dde06",
   "metadata": {},
   "outputs": [],
   "source": [
    "a = 123456789012345678901000999"
   ]
  },
  {
   "cell_type": "code",
   "execution_count": 2,
   "id": "47d3fb5f-f844-43be-9a7c-e3409bf3282a",
   "metadata": {},
   "outputs": [],
   "source": [
    "a = 123456789012345678901000999"
   ]
  },
  {
   "cell_type": "code",
   "execution_count": 4,
   "id": "2e4e3d29-b76d-404f-9a5a-e570ab4e7d42",
   "metadata": {},
   "outputs": [
    {
     "name": "stdout",
     "output_type": "stream",
     "text": [
      "123456789012345678901000999\n"
     ]
    }
   ],
   "source": [
    "print(a)"
   ]
  },
  {
   "cell_type": "code",
   "execution_count": null,
   "id": "0b5a5c45-68e6-4a4e-bf86-bba368014db8",
   "metadata": {},
   "outputs": [],
   "source": []
  }
 ],
 "metadata": {
  "kernelspec": {
   "display_name": "Python 3 (ipykernel)",
   "language": "python",
   "name": "python3"
  },
  "language_info": {
   "codemirror_mode": {
    "name": "ipython",
    "version": 3
   },
   "file_extension": ".py",
   "mimetype": "text/x-python",
   "name": "python",
   "nbconvert_exporter": "python",
   "pygments_lexer": "ipython3",
   "version": "3.12.3"
  }
 },
 "nbformat": 4,
 "nbformat_minor": 5
}
